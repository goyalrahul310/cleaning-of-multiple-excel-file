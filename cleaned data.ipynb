{
 "cells": [
  {
   "cell_type": "code",
   "execution_count": 184,
   "metadata": {},
   "outputs": [
    {
     "name": "stdout",
     "output_type": "stream",
     "text": [
      "C:\\Users\\Rahul\\Desktop\\Commodity\n"
     ]
    }
   ],
   "source": [
    "import pandas as pd\n",
    "import json\n",
    "import numpy as np\n",
    "import os\n",
    "print(os.getcwd())"
   ]
  },
  {
   "cell_type": "code",
   "execution_count": 185,
   "metadata": {},
   "outputs": [],
   "source": [
    "path = \"C:/Users/Rahul/Desktop/Commodity\"\n",
    "files = os.listdir(path)"
   ]
  },
  {
   "cell_type": "code",
   "execution_count": 186,
   "metadata": {},
   "outputs": [],
   "source": [
    "file = files[1:14]\n"
   ]
  },
  {
   "cell_type": "code",
   "execution_count": 187,
   "metadata": {},
   "outputs": [],
   "source": [
    "file1 = []\n",
    "for f in file:\n",
    "    file1.append(os.listdir(f))"
   ]
  },
  {
   "cell_type": "code",
   "execution_count": 188,
   "metadata": {},
   "outputs": [
    {
     "name": "stdout",
     "output_type": "stream",
     "text": [
      "current-daily-price-various-commodities-various-markets-mandi\n"
     ]
    }
   ],
   "source": [
    "for f in file1[0]:\n",
    "    print(f)\n",
    "    break"
   ]
  },
  {
   "cell_type": "code",
   "execution_count": 189,
   "metadata": {},
   "outputs": [],
   "source": [
    "f4 = []\n",
    "i = -1\n",
    "for f in file:\n",
    "    i += 1\n",
    "    for f1 in file1[i]:\n",
    "        if f1[-3:] != \"ini\":\n",
    "            path2 = \"C:/Users/Rahul/Desktop/Commodity/\"+f + \"/\" + f1 + \"/\"\n",
    "            file2 = os.listdir(path2)\n",
    "            for f2 in file2:\n",
    "                if f2[-3:] == \"csv\":\n",
    "                    f3 = path2 + f2\n",
    "                    f4.append(f3)\n",
    "           "
   ]
  },
  {
   "cell_type": "code",
   "execution_count": 244,
   "metadata": {},
   "outputs": [
    {
     "data": {
      "text/plain": [
       "'C:/Users/Rahul/Desktop/Commodity/1-20/current-daily-price-various-commodities-various-markets-mandi/Current_Daily_Price_of_Various_Commodities_from_Various_Markets_(Mandi)-export.csv'"
      ]
     },
     "execution_count": 244,
     "metadata": {},
     "output_type": "execute_result"
    }
   ],
   "source": [
    "f4[0]"
   ]
  },
  {
   "cell_type": "code",
   "execution_count": 191,
   "metadata": {},
   "outputs": [],
   "source": [
    "d = np.unique(f4)"
   ]
  },
  {
   "cell_type": "code",
   "execution_count": 192,
   "metadata": {},
   "outputs": [
    {
     "data": {
      "text/plain": [
       "998"
      ]
     },
     "execution_count": 192,
     "metadata": {},
     "output_type": "execute_result"
    }
   ],
   "source": [
    "ds = d[2:1000]\n",
    "len(ds)"
   ]
  },
  {
   "cell_type": "code",
   "execution_count": 193,
   "metadata": {},
   "outputs": [
    {
     "name": "stderr",
     "output_type": "stream",
     "text": [
      "b'Skipping line 8: expected 1 fields, saw 3\\nSkipping line 12: expected 1 fields, saw 2\\n'\n",
      "b'Skipping line 8: expected 1 fields, saw 3\\nSkipping line 12: expected 1 fields, saw 2\\n'\n",
      "b'Skipping line 8: expected 1 fields, saw 3\\nSkipping line 12: expected 1 fields, saw 2\\n'\n",
      "b'Skipping line 8: expected 1 fields, saw 3\\nSkipping line 12: expected 1 fields, saw 2\\n'\n",
      "b'Skipping line 8: expected 1 fields, saw 3\\nSkipping line 12: expected 1 fields, saw 2\\n'\n",
      "b'Skipping line 8: expected 1 fields, saw 3\\nSkipping line 12: expected 1 fields, saw 2\\n'\n",
      "b'Skipping line 8: expected 1 fields, saw 3\\nSkipping line 12: expected 1 fields, saw 2\\n'\n",
      "b'Skipping line 8: expected 1 fields, saw 3\\nSkipping line 12: expected 1 fields, saw 2\\n'\n",
      "b'Skipping line 8: expected 1 fields, saw 3\\nSkipping line 12: expected 1 fields, saw 2\\n'\n",
      "b'Skipping line 8: expected 1 fields, saw 3\\nSkipping line 12: expected 1 fields, saw 2\\n'\n",
      "b'Skipping line 8: expected 1 fields, saw 3\\nSkipping line 12: expected 1 fields, saw 2\\n'\n",
      "b'Skipping line 8: expected 1 fields, saw 3\\nSkipping line 12: expected 1 fields, saw 2\\n'\n",
      "b'Skipping line 8: expected 1 fields, saw 3\\nSkipping line 12: expected 1 fields, saw 2\\n'\n",
      "b'Skipping line 8: expected 1 fields, saw 3\\nSkipping line 12: expected 1 fields, saw 2\\n'\n",
      "b'Skipping line 8: expected 1 fields, saw 3\\nSkipping line 12: expected 1 fields, saw 2\\n'\n",
      "b'Skipping line 8: expected 1 fields, saw 3\\nSkipping line 12: expected 1 fields, saw 2\\n'\n",
      "b'Skipping line 8: expected 1 fields, saw 3\\nSkipping line 12: expected 1 fields, saw 2\\n'\n",
      "b'Skipping line 8: expected 1 fields, saw 3\\nSkipping line 12: expected 1 fields, saw 2\\n'\n",
      "b'Skipping line 8: expected 1 fields, saw 3\\nSkipping line 12: expected 1 fields, saw 2\\n'\n",
      "b'Skipping line 8: expected 1 fields, saw 3\\nSkipping line 12: expected 1 fields, saw 2\\n'\n",
      "b'Skipping line 8: expected 1 fields, saw 3\\nSkipping line 12: expected 1 fields, saw 2\\n'\n",
      "b'Skipping line 8: expected 1 fields, saw 3\\nSkipping line 12: expected 1 fields, saw 2\\n'\n",
      "b'Skipping line 8: expected 1 fields, saw 3\\nSkipping line 12: expected 1 fields, saw 2\\n'\n",
      "b'Skipping line 8: expected 1 fields, saw 3\\nSkipping line 12: expected 1 fields, saw 2\\n'\n",
      "b'Skipping line 8: expected 1 fields, saw 3\\nSkipping line 12: expected 1 fields, saw 2\\n'\n",
      "b'Skipping line 8: expected 1 fields, saw 3\\nSkipping line 12: expected 1 fields, saw 2\\n'\n",
      "b'Skipping line 8: expected 1 fields, saw 3\\nSkipping line 12: expected 1 fields, saw 2\\n'\n",
      "b'Skipping line 8: expected 1 fields, saw 3\\nSkipping line 12: expected 1 fields, saw 2\\n'\n",
      "b'Skipping line 8: expected 1 fields, saw 3\\nSkipping line 12: expected 1 fields, saw 2\\n'\n",
      "b'Skipping line 8: expected 1 fields, saw 3\\nSkipping line 12: expected 1 fields, saw 2\\n'\n",
      "b'Skipping line 8: expected 1 fields, saw 3\\nSkipping line 12: expected 1 fields, saw 2\\n'\n",
      "b'Skipping line 8: expected 1 fields, saw 3\\nSkipping line 12: expected 1 fields, saw 2\\n'\n",
      "b'Skipping line 8: expected 1 fields, saw 3\\nSkipping line 12: expected 1 fields, saw 2\\n'\n",
      "b'Skipping line 8: expected 1 fields, saw 3\\nSkipping line 12: expected 1 fields, saw 2\\n'\n",
      "b'Skipping line 8: expected 1 fields, saw 3\\nSkipping line 12: expected 1 fields, saw 2\\n'\n",
      "b'Skipping line 8: expected 1 fields, saw 3\\nSkipping line 12: expected 1 fields, saw 2\\n'\n",
      "b'Skipping line 8: expected 1 fields, saw 3\\nSkipping line 12: expected 1 fields, saw 2\\n'\n",
      "b'Skipping line 8: expected 1 fields, saw 3\\nSkipping line 12: expected 1 fields, saw 2\\n'\n",
      "b'Skipping line 8: expected 1 fields, saw 3\\nSkipping line 12: expected 1 fields, saw 2\\n'\n",
      "b'Skipping line 8: expected 1 fields, saw 3\\nSkipping line 12: expected 1 fields, saw 2\\n'\n",
      "b'Skipping line 8: expected 1 fields, saw 3\\nSkipping line 12: expected 1 fields, saw 2\\n'\n",
      "b'Skipping line 8: expected 1 fields, saw 3\\nSkipping line 12: expected 1 fields, saw 2\\n'\n",
      "b'Skipping line 8: expected 1 fields, saw 3\\nSkipping line 12: expected 1 fields, saw 2\\n'\n",
      "b'Skipping line 8: expected 1 fields, saw 3\\nSkipping line 12: expected 1 fields, saw 2\\n'\n",
      "b'Skipping line 8: expected 1 fields, saw 3\\nSkipping line 12: expected 1 fields, saw 2\\n'\n",
      "b'Skipping line 8: expected 1 fields, saw 3\\nSkipping line 12: expected 1 fields, saw 2\\n'\n",
      "b'Skipping line 8: expected 1 fields, saw 3\\nSkipping line 12: expected 1 fields, saw 2\\n'\n",
      "b'Skipping line 8: expected 1 fields, saw 3\\nSkipping line 12: expected 1 fields, saw 2\\n'\n",
      "b'Skipping line 8: expected 1 fields, saw 3\\nSkipping line 12: expected 1 fields, saw 2\\n'\n",
      "b'Skipping line 8: expected 1 fields, saw 3\\nSkipping line 12: expected 1 fields, saw 2\\n'\n",
      "b'Skipping line 8: expected 1 fields, saw 3\\nSkipping line 12: expected 1 fields, saw 2\\n'\n",
      "b'Skipping line 8: expected 1 fields, saw 3\\nSkipping line 12: expected 1 fields, saw 2\\n'\n",
      "b'Skipping line 8: expected 1 fields, saw 3\\nSkipping line 12: expected 1 fields, saw 2\\n'\n",
      "b'Skipping line 8: expected 1 fields, saw 3\\nSkipping line 12: expected 1 fields, saw 2\\n'\n",
      "b'Skipping line 8: expected 1 fields, saw 3\\nSkipping line 12: expected 1 fields, saw 2\\n'\n",
      "b'Skipping line 8: expected 1 fields, saw 3\\nSkipping line 12: expected 1 fields, saw 2\\n'\n",
      "b'Skipping line 8: expected 1 fields, saw 3\\nSkipping line 12: expected 1 fields, saw 2\\n'\n",
      "b'Skipping line 8: expected 1 fields, saw 3\\nSkipping line 12: expected 1 fields, saw 2\\n'\n",
      "b'Skipping line 8: expected 1 fields, saw 3\\nSkipping line 12: expected 1 fields, saw 2\\n'\n",
      "b'Skipping line 8: expected 1 fields, saw 3\\nSkipping line 12: expected 1 fields, saw 2\\n'\n",
      "b'Skipping line 8: expected 1 fields, saw 3\\nSkipping line 12: expected 1 fields, saw 2\\n'\n",
      "b'Skipping line 8: expected 1 fields, saw 3\\nSkipping line 12: expected 1 fields, saw 2\\n'\n",
      "b'Skipping line 8: expected 1 fields, saw 3\\nSkipping line 12: expected 1 fields, saw 2\\n'\n",
      "b'Skipping line 8: expected 1 fields, saw 3\\nSkipping line 12: expected 1 fields, saw 2\\n'\n",
      "b'Skipping line 8: expected 1 fields, saw 3\\nSkipping line 12: expected 1 fields, saw 2\\n'\n",
      "b'Skipping line 8: expected 1 fields, saw 3\\nSkipping line 12: expected 1 fields, saw 2\\n'\n",
      "b'Skipping line 8: expected 1 fields, saw 3\\nSkipping line 12: expected 1 fields, saw 2\\n'\n",
      "b'Skipping line 8: expected 1 fields, saw 3\\nSkipping line 12: expected 1 fields, saw 2\\n'\n",
      "b'Skipping line 8: expected 1 fields, saw 3\\nSkipping line 12: expected 1 fields, saw 2\\n'\n",
      "b'Skipping line 8: expected 1 fields, saw 3\\nSkipping line 12: expected 1 fields, saw 2\\n'\n",
      "b'Skipping line 8: expected 1 fields, saw 3\\nSkipping line 12: expected 1 fields, saw 2\\n'\n",
      "b'Skipping line 8: expected 1 fields, saw 3\\nSkipping line 12: expected 1 fields, saw 2\\n'\n",
      "b'Skipping line 8: expected 1 fields, saw 3\\nSkipping line 12: expected 1 fields, saw 2\\n'\n",
      "b'Skipping line 8: expected 1 fields, saw 3\\nSkipping line 12: expected 1 fields, saw 2\\n'\n",
      "b'Skipping line 8: expected 1 fields, saw 3\\nSkipping line 12: expected 1 fields, saw 2\\n'\n",
      "b'Skipping line 8: expected 1 fields, saw 3\\nSkipping line 12: expected 1 fields, saw 2\\n'\n",
      "b'Skipping line 8: expected 1 fields, saw 3\\nSkipping line 12: expected 1 fields, saw 2\\n'\n",
      "b'Skipping line 8: expected 1 fields, saw 3\\nSkipping line 12: expected 1 fields, saw 2\\n'\n",
      "b'Skipping line 8: expected 1 fields, saw 3\\nSkipping line 12: expected 1 fields, saw 2\\n'\n",
      "b'Skipping line 8: expected 1 fields, saw 3\\nSkipping line 12: expected 1 fields, saw 2\\n'\n",
      "b'Skipping line 8: expected 1 fields, saw 3\\nSkipping line 12: expected 1 fields, saw 2\\n'\n",
      "b'Skipping line 8: expected 1 fields, saw 3\\nSkipping line 12: expected 1 fields, saw 2\\n'\n",
      "b'Skipping line 8: expected 1 fields, saw 3\\nSkipping line 12: expected 1 fields, saw 2\\n'\n",
      "b'Skipping line 8: expected 1 fields, saw 3\\nSkipping line 12: expected 1 fields, saw 2\\n'\n",
      "b'Skipping line 8: expected 1 fields, saw 3\\nSkipping line 12: expected 1 fields, saw 2\\n'\n",
      "b'Skipping line 8: expected 1 fields, saw 3\\nSkipping line 12: expected 1 fields, saw 2\\n'\n",
      "b'Skipping line 8: expected 1 fields, saw 3\\nSkipping line 12: expected 1 fields, saw 2\\n'\n",
      "b'Skipping line 8: expected 1 fields, saw 3\\nSkipping line 12: expected 1 fields, saw 2\\n'\n",
      "b'Skipping line 8: expected 1 fields, saw 3\\nSkipping line 12: expected 1 fields, saw 2\\n'\n",
      "b'Skipping line 8: expected 1 fields, saw 3\\nSkipping line 12: expected 1 fields, saw 2\\n'\n",
      "b'Skipping line 8: expected 1 fields, saw 3\\nSkipping line 12: expected 1 fields, saw 2\\n'\n",
      "b'Skipping line 8: expected 1 fields, saw 3\\nSkipping line 12: expected 1 fields, saw 2\\n'\n",
      "b'Skipping line 8: expected 1 fields, saw 3\\nSkipping line 12: expected 1 fields, saw 2\\n'\n"
     ]
    },
    {
     "name": "stderr",
     "output_type": "stream",
     "text": [
      "b'Skipping line 8: expected 1 fields, saw 3\\nSkipping line 12: expected 1 fields, saw 2\\n'\n",
      "b'Skipping line 8: expected 1 fields, saw 3\\nSkipping line 12: expected 1 fields, saw 2\\n'\n",
      "b'Skipping line 8: expected 1 fields, saw 3\\nSkipping line 12: expected 1 fields, saw 2\\n'\n",
      "b'Skipping line 8: expected 1 fields, saw 3\\nSkipping line 12: expected 1 fields, saw 2\\n'\n",
      "b'Skipping line 8: expected 1 fields, saw 3\\nSkipping line 12: expected 1 fields, saw 2\\n'\n",
      "b'Skipping line 8: expected 1 fields, saw 3\\nSkipping line 12: expected 1 fields, saw 2\\n'\n",
      "b'Skipping line 8: expected 1 fields, saw 3\\nSkipping line 12: expected 1 fields, saw 2\\n'\n",
      "b'Skipping line 8: expected 1 fields, saw 3\\nSkipping line 12: expected 1 fields, saw 2\\n'\n",
      "b'Skipping line 8: expected 1 fields, saw 3\\nSkipping line 12: expected 1 fields, saw 2\\n'\n",
      "b'Skipping line 8: expected 1 fields, saw 3\\nSkipping line 12: expected 1 fields, saw 2\\n'\n",
      "b'Skipping line 8: expected 1 fields, saw 3\\nSkipping line 12: expected 1 fields, saw 2\\n'\n",
      "b'Skipping line 8: expected 1 fields, saw 3\\nSkipping line 12: expected 1 fields, saw 2\\n'\n",
      "b'Skipping line 8: expected 1 fields, saw 3\\nSkipping line 12: expected 1 fields, saw 2\\n'\n",
      "b'Skipping line 8: expected 1 fields, saw 3\\nSkipping line 12: expected 1 fields, saw 2\\n'\n",
      "b'Skipping line 8: expected 1 fields, saw 3\\nSkipping line 12: expected 1 fields, saw 2\\n'\n",
      "b'Skipping line 8: expected 1 fields, saw 3\\nSkipping line 12: expected 1 fields, saw 2\\n'\n",
      "b'Skipping line 8: expected 1 fields, saw 3\\nSkipping line 12: expected 1 fields, saw 2\\n'\n",
      "b'Skipping line 8: expected 1 fields, saw 3\\nSkipping line 12: expected 1 fields, saw 2\\n'\n",
      "b'Skipping line 8: expected 1 fields, saw 3\\nSkipping line 12: expected 1 fields, saw 2\\n'\n",
      "b'Skipping line 8: expected 1 fields, saw 3\\nSkipping line 12: expected 1 fields, saw 2\\n'\n",
      "b'Skipping line 8: expected 1 fields, saw 3\\nSkipping line 12: expected 1 fields, saw 2\\n'\n",
      "b'Skipping line 8: expected 1 fields, saw 3\\nSkipping line 12: expected 1 fields, saw 2\\n'\n",
      "b'Skipping line 8: expected 1 fields, saw 3\\nSkipping line 12: expected 1 fields, saw 2\\n'\n",
      "b'Skipping line 8: expected 1 fields, saw 3\\nSkipping line 12: expected 1 fields, saw 2\\n'\n",
      "b'Skipping line 8: expected 1 fields, saw 3\\nSkipping line 12: expected 1 fields, saw 2\\n'\n",
      "b'Skipping line 8: expected 1 fields, saw 3\\nSkipping line 12: expected 1 fields, saw 2\\n'\n",
      "b'Skipping line 8: expected 1 fields, saw 3\\nSkipping line 12: expected 1 fields, saw 2\\n'\n",
      "b'Skipping line 8: expected 1 fields, saw 3\\nSkipping line 12: expected 1 fields, saw 2\\n'\n",
      "b'Skipping line 8: expected 1 fields, saw 3\\nSkipping line 12: expected 1 fields, saw 2\\n'\n",
      "b'Skipping line 8: expected 1 fields, saw 3\\nSkipping line 12: expected 1 fields, saw 2\\n'\n",
      "b'Skipping line 8: expected 1 fields, saw 3\\nSkipping line 12: expected 1 fields, saw 2\\n'\n",
      "b'Skipping line 8: expected 1 fields, saw 3\\nSkipping line 12: expected 1 fields, saw 2\\n'\n",
      "b'Skipping line 8: expected 1 fields, saw 3\\nSkipping line 12: expected 1 fields, saw 2\\n'\n",
      "b'Skipping line 8: expected 1 fields, saw 3\\nSkipping line 12: expected 1 fields, saw 2\\n'\n",
      "b'Skipping line 8: expected 1 fields, saw 3\\nSkipping line 12: expected 1 fields, saw 2\\n'\n",
      "b'Skipping line 8: expected 1 fields, saw 3\\nSkipping line 12: expected 1 fields, saw 2\\n'\n",
      "b'Skipping line 8: expected 1 fields, saw 3\\nSkipping line 12: expected 1 fields, saw 2\\n'\n",
      "b'Skipping line 8: expected 1 fields, saw 3\\nSkipping line 12: expected 1 fields, saw 2\\n'\n",
      "b'Skipping line 8: expected 1 fields, saw 3\\nSkipping line 12: expected 1 fields, saw 2\\n'\n",
      "b'Skipping line 8: expected 1 fields, saw 3\\nSkipping line 12: expected 1 fields, saw 2\\n'\n",
      "b'Skipping line 8: expected 1 fields, saw 3\\nSkipping line 12: expected 1 fields, saw 2\\n'\n",
      "b'Skipping line 8: expected 1 fields, saw 3\\nSkipping line 12: expected 1 fields, saw 2\\n'\n",
      "b'Skipping line 8: expected 1 fields, saw 3\\nSkipping line 12: expected 1 fields, saw 2\\n'\n",
      "b'Skipping line 8: expected 1 fields, saw 3\\nSkipping line 12: expected 1 fields, saw 2\\n'\n",
      "b'Skipping line 8: expected 1 fields, saw 3\\nSkipping line 12: expected 1 fields, saw 2\\n'\n",
      "b'Skipping line 8: expected 1 fields, saw 3\\nSkipping line 12: expected 1 fields, saw 2\\n'\n",
      "b'Skipping line 8: expected 1 fields, saw 3\\nSkipping line 12: expected 1 fields, saw 2\\n'\n",
      "b'Skipping line 8: expected 1 fields, saw 3\\nSkipping line 12: expected 1 fields, saw 2\\n'\n",
      "b'Skipping line 8: expected 1 fields, saw 3\\nSkipping line 12: expected 1 fields, saw 2\\n'\n",
      "b'Skipping line 8: expected 1 fields, saw 3\\nSkipping line 12: expected 1 fields, saw 2\\n'\n",
      "b'Skipping line 8: expected 1 fields, saw 3\\nSkipping line 12: expected 1 fields, saw 2\\n'\n",
      "b'Skipping line 8: expected 1 fields, saw 3\\nSkipping line 12: expected 1 fields, saw 2\\n'\n",
      "b'Skipping line 8: expected 1 fields, saw 3\\nSkipping line 12: expected 1 fields, saw 2\\n'\n",
      "b'Skipping line 8: expected 1 fields, saw 3\\nSkipping line 12: expected 1 fields, saw 2\\n'\n",
      "b'Skipping line 8: expected 1 fields, saw 3\\nSkipping line 12: expected 1 fields, saw 2\\n'\n",
      "b'Skipping line 8: expected 1 fields, saw 3\\nSkipping line 12: expected 1 fields, saw 2\\n'\n",
      "b'Skipping line 8: expected 1 fields, saw 3\\nSkipping line 12: expected 1 fields, saw 2\\n'\n",
      "b'Skipping line 8: expected 1 fields, saw 3\\nSkipping line 12: expected 1 fields, saw 2\\n'\n",
      "b'Skipping line 8: expected 1 fields, saw 3\\nSkipping line 12: expected 1 fields, saw 2\\n'\n",
      "b'Skipping line 8: expected 1 fields, saw 3\\nSkipping line 12: expected 1 fields, saw 2\\n'\n",
      "b'Skipping line 8: expected 1 fields, saw 3\\nSkipping line 12: expected 1 fields, saw 2\\n'\n",
      "b'Skipping line 8: expected 1 fields, saw 3\\nSkipping line 12: expected 1 fields, saw 2\\n'\n",
      "b'Skipping line 8: expected 1 fields, saw 3\\nSkipping line 12: expected 1 fields, saw 2\\n'\n",
      "b'Skipping line 8: expected 1 fields, saw 3\\nSkipping line 12: expected 1 fields, saw 2\\n'\n",
      "b'Skipping line 8: expected 1 fields, saw 3\\nSkipping line 12: expected 1 fields, saw 2\\n'\n",
      "b'Skipping line 8: expected 1 fields, saw 3\\nSkipping line 12: expected 1 fields, saw 2\\n'\n",
      "b'Skipping line 8: expected 1 fields, saw 3\\nSkipping line 12: expected 1 fields, saw 2\\n'\n",
      "b'Skipping line 8: expected 1 fields, saw 3\\nSkipping line 12: expected 1 fields, saw 2\\n'\n",
      "b'Skipping line 8: expected 1 fields, saw 3\\nSkipping line 12: expected 1 fields, saw 2\\n'\n",
      "b'Skipping line 8: expected 1 fields, saw 3\\nSkipping line 12: expected 1 fields, saw 2\\n'\n",
      "b'Skipping line 8: expected 1 fields, saw 3\\nSkipping line 12: expected 1 fields, saw 2\\n'\n",
      "b'Skipping line 8: expected 1 fields, saw 3\\nSkipping line 12: expected 1 fields, saw 2\\n'\n",
      "b'Skipping line 8: expected 1 fields, saw 3\\nSkipping line 12: expected 1 fields, saw 2\\n'\n",
      "b'Skipping line 8: expected 1 fields, saw 3\\nSkipping line 12: expected 1 fields, saw 2\\n'\n",
      "b'Skipping line 8: expected 1 fields, saw 3\\nSkipping line 12: expected 1 fields, saw 2\\n'\n",
      "b'Skipping line 8: expected 1 fields, saw 3\\nSkipping line 12: expected 1 fields, saw 2\\n'\n",
      "b'Skipping line 8: expected 1 fields, saw 3\\nSkipping line 12: expected 1 fields, saw 2\\n'\n",
      "b'Skipping line 8: expected 1 fields, saw 3\\nSkipping line 12: expected 1 fields, saw 2\\n'\n",
      "b'Skipping line 8: expected 1 fields, saw 3\\nSkipping line 12: expected 1 fields, saw 2\\n'\n",
      "b'Skipping line 8: expected 1 fields, saw 3\\nSkipping line 12: expected 1 fields, saw 2\\n'\n",
      "b'Skipping line 8: expected 1 fields, saw 3\\nSkipping line 12: expected 1 fields, saw 2\\n'\n",
      "b'Skipping line 8: expected 1 fields, saw 3\\nSkipping line 12: expected 1 fields, saw 2\\n'\n",
      "b'Skipping line 8: expected 1 fields, saw 3\\nSkipping line 12: expected 1 fields, saw 2\\n'\n",
      "b'Skipping line 8: expected 1 fields, saw 3\\nSkipping line 12: expected 1 fields, saw 2\\n'\n",
      "b'Skipping line 8: expected 1 fields, saw 3\\nSkipping line 12: expected 1 fields, saw 2\\n'\n",
      "b'Skipping line 8: expected 1 fields, saw 3\\nSkipping line 12: expected 1 fields, saw 2\\n'\n",
      "b'Skipping line 8: expected 1 fields, saw 3\\nSkipping line 12: expected 1 fields, saw 2\\n'\n"
     ]
    }
   ],
   "source": [
    "data1 = {}\n",
    "l = 0\n",
    "for d1 in ds:\n",
    "    data1[l] = pd.read_csv(d1, error_bad_lines=False)\n",
    "    l += 1"
   ]
  },
  {
   "cell_type": "code",
   "execution_count": 194,
   "metadata": {},
   "outputs": [],
   "source": [
    "#cleaning data (removing excel which contait less then 9 column,removing duplicate rows)\n",
    "w = []\n",
    "for d3 in data1:\n",
    "    if len(data1[d3].columns) == 9:\n",
    "        \n",
    "        w.append(d3)\n",
    "        "
   ]
  },
  {
   "cell_type": "code",
   "execution_count": 195,
   "metadata": {},
   "outputs": [],
   "source": [
    "dic = {}\n",
    "a = 0\n",
    "for i in w:\n",
    "    dic[a] = data1[i].drop_duplicates()\n",
    "    a += 1"
   ]
  },
  {
   "cell_type": "code",
   "execution_count": 206,
   "metadata": {},
   "outputs": [
    {
     "data": {
      "text/plain": [
       "818"
      ]
     },
     "execution_count": 206,
     "metadata": {},
     "output_type": "execute_result"
    }
   ],
   "source": [
    "len(dic)"
   ]
  },
  {
   "cell_type": "code",
   "execution_count": 238,
   "metadata": {},
   "outputs": [],
   "source": [
    "ld = []\n",
    "df = {}\n",
    "k = 0\n",
    "for i in dic:\n",
    "    ld.append([dic[i]])\n",
    "   "
   ]
  },
  {
   "cell_type": "code",
   "execution_count": 240,
   "metadata": {},
   "outputs": [],
   "source": [
    "lf = str(ld)"
   ]
  },
  {
   "cell_type": "code",
   "execution_count": 254,
   "metadata": {},
   "outputs": [
    {
     "data": {
      "text/plain": [
       "6361143"
      ]
     },
     "execution_count": 254,
     "metadata": {},
     "output_type": "execute_result"
    }
   ],
   "source": [
    "\n",
    "\n",
    "file = open('cleaneddata.json', 'w') \n",
    "file.write(lf)"
   ]
  },
  {
   "cell_type": "code",
   "execution_count": null,
   "metadata": {},
   "outputs": [],
   "source": []
  }
 ],
 "metadata": {
  "kernelspec": {
   "display_name": "Python 3",
   "language": "python",
   "name": "python3"
  },
  "language_info": {
   "codemirror_mode": {
    "name": "ipython",
    "version": 3
   },
   "file_extension": ".py",
   "mimetype": "text/x-python",
   "name": "python",
   "nbconvert_exporter": "python",
   "pygments_lexer": "ipython3",
   "version": "3.6.7"
  }
 },
 "nbformat": 4,
 "nbformat_minor": 2
}
